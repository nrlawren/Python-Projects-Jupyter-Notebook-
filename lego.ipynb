{
 "cells": [
  {
   "cell_type": "markdown",
   "metadata": {},
   "source": [
    "# DTSC 580: Data Manipulation\n",
    "## Assignment: LEGO Project\n",
    "### Name: Nash Lawrence"
   ]
  },
  {
   "cell_type": "markdown",
   "metadata": {},
   "source": [
    "![LegoSchema](Lego_Schema.PNG)"
   ]
  },
  {
   "cell_type": "markdown",
   "metadata": {},
   "source": [
    "## Overview\n",
    "\n",
    "In this assignment, you will load the various tables from the [Rebrickable](https://rebrickable.com/) website and perform analysis on the data.  Rebrickable is a fantastic website that is used to show you which LEGO sets you can build from the sets and parts you already own.  They will even show you which parts you are missing to complete the new set and suggest sets that you could purchase to get those parts.  \n",
    "\n",
    "## Data\n",
    "\n",
    "The data has been downloaded directly from their website and includes files for the tables shown in the schema above.  Your first task will be to go through the data and review the schema to understand how the tables all fit together.  There is no data dictionary that I am aware of, but you should be able to understand this data by reviewing the files and schema and visiting their [Download](https://rebrickable.com/downloads/) page and [API](https://rebrickable.com/api/) documentation.  **Note that you must use the files downloaded from Brightspace for this assignment and not download new files from the Rebrickable website.**\n",
    "\n",
    "## Assignment\n",
    "\n",
    "In this assignment, you will create a number of functions to complete certain tasks.  This is not needed if you were working on this project on your own, but since we want to see if you can select the data via Pandas/Numpy, we will use those functions in the automatic grading in CodeGrade.  Without this, students could try to look up the answers in the `csv` files instead of wrangling the data with Python/Pandas, which would defeat the purpose of this class.\n",
    "\n",
    "In addition, we would strongly suggest that you merge data sets as appropriate for the given task.  For example, you might merge the `sets` and `themes` DataFrames to answer one question, and then merge `sets`, `inventories`, `inventory_minifigs`, and `minifigs` to answer another.  This will make your code much easier to write and will be key in working with data across multiple tables.  In fact, I was able to create each function with only one line of code because of the merging of certain data sets.  Also note that you may not use all the tables in this assignment.  This is also an important skill for a Data Scientist to know when to use data and what data is unnecessary.\n",
    "\n",
    "When complete, save your notebook as `lego.ipynb` and submit to CodeGrade for automatic grading.\n",
    "\n",
    "## Note\n",
    "\n",
    "<u>Show Work</u>\n",
    "\n",
    "Remember that you must show your work.  Students submissions are spot checked manually throughout the term to verify that they are not hard coding the answer from looking only in the file or in CodeGrade's expected output.  If this is seen, the student's answer will be manually marked wrong and their grade will be changed to reflect this. \n",
    "\n",
    "For example, if the answer to Q1, the mean of a specific column, is 22:\n",
    "```\n",
    "# correct way\n",
    "Q1 = df['column_name'].mean()\n",
    "\n",
    "# incorrect way\n",
    "Q1 = 22 \n",
    "```\n",
    "\n",
    "Let's start out by importing some standard imports."
   ]
  },
  {
   "cell_type": "code",
   "execution_count": 1,
   "metadata": {},
   "outputs": [],
   "source": [
    "# common imports\n",
    "import pandas as pd\n",
    "import numpy as np\n",
    "\n",
    "# Do not change this option; This allows the CodeGrade auto grading to function correctly\n",
    "pd.set_option('display.max_columns', None)"
   ]
  },
  {
   "cell_type": "markdown",
   "metadata": {},
   "source": [
    "## Import Data\n",
    "\n",
    "Load the various Lego datasets below calling them the same as the name of the table as seen in the schema.  Note that you may or may not have to use all the data sets.  One of the things that all Data Scientists and Analysts have to decide when working on a project is what data is useful for a task and what data is not.  Remember to look at the schema above to see how all the data sets are connected.\n",
    "\n",
    "The autograder in CodeGrade will have the `csv` files in the same location where the notebook is run.  Because of this, please make sure your local files are in the same location as your notebook."
   ]
  },
  {
   "cell_type": "code",
   "execution_count": 2,
   "metadata": {},
   "outputs": [],
   "source": [
    "# import Lego data sets here\n",
    "# make sure that files are in the same folder as your notebook\n",
    "inventories = pd.read_csv('inventories.csv')\n",
    "inventory_sets = pd.read_csv('inventory_sets.csv')\n",
    "sets = pd.read_csv('sets.csv')\n",
    "themes = pd.read_csv('themes.csv')\n",
    "inventory_minifigs = pd.read_csv('inventory_minifigs.csv')\n",
    "minifigs = pd.read_csv('minifigs.csv')\n",
    "inventory_parts = pd.read_csv('inventory_parts.csv')\n",
    "part_categories = pd.read_csv('part_categories.csv')\n",
    "parts = pd.read_csv('parts.csv')\n",
    "colors = pd.read_csv('colors.csv')\n",
    "part_relationships = pd.read_csv('part_relationships.csv')\n",
    "elements = pd.read_csv('elements.csv')"
   ]
  },
  {
   "cell_type": "markdown",
   "metadata": {},
   "source": [
    "## Exploration"
   ]
  },
  {
   "cell_type": "markdown",
   "metadata": {},
   "source": [
    "Take time to look at all of the data sets using `.head()`, `.info()`, `.describe()`, etc to familiarize yourself with the data sets.  As you look at them, notice how the various tables connect together."
   ]
  },
  {
   "cell_type": "code",
   "execution_count": 3,
   "metadata": {},
   "outputs": [
    {
     "data": {
      "text/plain": [
       "11827"
      ]
     },
     "execution_count": 3,
     "metadata": {},
     "output_type": "execute_result"
    }
   ],
   "source": [
    "len(minifigs)"
   ]
  },
  {
   "cell_type": "markdown",
   "metadata": {},
   "source": [
    "## Assignment\n",
    "\n",
    "Answer all the questions below using the available data.  There are multiple ways to get some of the answers.  I would suggest that you attempt to merge some data sets as needed to assist with getting answers.  This will make your tasks a lot easier and your code will be cleaner.\n",
    "\n",
    "Also, you will be creating functions to get the answers to some of these questions.  This will make it much easier for you to get answers to similar questions in the future and CodeGrade will be checking your functions using different inputs.  "
   ]
  },
  {
   "cell_type": "markdown",
   "metadata": {},
   "source": [
    "**Q1:** Create a function called `data_count` that takes as input the data set (for example: `sets`) and returns the total number of rows in the data (as an integer).  Nothing else should be returned."
   ]
  },
  {
   "cell_type": "code",
   "execution_count": 4,
   "metadata": {},
   "outputs": [],
   "source": [
    "def data_count(df):\n",
    "    return len(df)"
   ]
  },
  {
   "cell_type": "markdown",
   "metadata": {},
   "source": [
    "**Code Check:**  If you call your `data_count` function using the `sets` DataFrame, you should see that there are 18,576 sets represented in the data."
   ]
  },
  {
   "cell_type": "code",
   "execution_count": 5,
   "metadata": {},
   "outputs": [
    {
     "data": {
      "text/plain": [
       "18576"
      ]
     },
     "execution_count": 5,
     "metadata": {},
     "output_type": "execute_result"
    }
   ],
   "source": [
    "data_count(sets)"
   ]
  },
  {
   "cell_type": "markdown",
   "metadata": {},
   "source": [
    "**Q2:** What is the average number of parts for a Lego set (rounded to the nearest integer)?  Save this as `Q2`."
   ]
  },
  {
   "cell_type": "code",
   "execution_count": 6,
   "metadata": {},
   "outputs": [
    {
     "data": {
      "text/plain": [
       "161"
      ]
     },
     "execution_count": 6,
     "metadata": {},
     "output_type": "execute_result"
    }
   ],
   "source": [
    "Q2 = round(sets['num_parts'].mean(), 0).astype(int)\n",
    "Q2"
   ]
  },
  {
   "cell_type": "markdown",
   "metadata": {},
   "source": [
    "**Q3:** What is the median number of parts per set (output as an integer)?  Save this as `Q3`."
   ]
  },
  {
   "cell_type": "code",
   "execution_count": 7,
   "metadata": {},
   "outputs": [
    {
     "data": {
      "text/plain": [
       "37"
      ]
     },
     "execution_count": 7,
     "metadata": {},
     "output_type": "execute_result"
    }
   ],
   "source": [
    "Q3 = int(sets['num_parts'].median())\n",
    "Q3"
   ]
  },
  {
   "cell_type": "markdown",
   "metadata": {},
   "source": [
    "You should see that the median number of parts is much lower than the average number of parts per set.  This tells us that there are some Lego sets with a very high number of parts that brings the average up."
   ]
  },
  {
   "cell_type": "markdown",
   "metadata": {},
   "source": [
    "**Q4:** What is the largest number of parts that a set has? Save this as `Q4`."
   ]
  },
  {
   "cell_type": "code",
   "execution_count": 8,
   "metadata": {},
   "outputs": [
    {
     "data": {
      "text/plain": [
       "11695"
      ]
     },
     "execution_count": 8,
     "metadata": {},
     "output_type": "execute_result"
    }
   ],
   "source": [
    "Q4 = sets['num_parts'].max()\n",
    "Q4"
   ]
  },
  {
   "cell_type": "markdown",
   "metadata": {},
   "source": [
    "**Q5:** Given the set with the largest number of parts calculated above, select its row from the `sets` DataFrame.  Save this as `Q5`.  Do not reset the index."
   ]
  },
  {
   "cell_type": "code",
   "execution_count": 9,
   "metadata": {},
   "outputs": [
    {
     "data": {
      "text/html": [
       "<div>\n",
       "<style scoped>\n",
       "    .dataframe tbody tr th:only-of-type {\n",
       "        vertical-align: middle;\n",
       "    }\n",
       "\n",
       "    .dataframe tbody tr th {\n",
       "        vertical-align: top;\n",
       "    }\n",
       "\n",
       "    .dataframe thead th {\n",
       "        text-align: right;\n",
       "    }\n",
       "</style>\n",
       "<table border=\"1\" class=\"dataframe\">\n",
       "  <thead>\n",
       "    <tr style=\"text-align: right;\">\n",
       "      <th></th>\n",
       "      <th>set_num</th>\n",
       "      <th>name</th>\n",
       "      <th>year</th>\n",
       "      <th>theme_id</th>\n",
       "      <th>num_parts</th>\n",
       "    </tr>\n",
       "  </thead>\n",
       "  <tbody>\n",
       "    <tr>\n",
       "      <th>3867</th>\n",
       "      <td>31203-1</td>\n",
       "      <td>World Map</td>\n",
       "      <td>2021</td>\n",
       "      <td>709</td>\n",
       "      <td>11695</td>\n",
       "    </tr>\n",
       "  </tbody>\n",
       "</table>\n",
       "</div>"
      ],
      "text/plain": [
       "      set_num       name  year  theme_id  num_parts\n",
       "3867  31203-1  World Map  2021       709      11695"
      ]
     },
     "execution_count": 9,
     "metadata": {},
     "output_type": "execute_result"
    }
   ],
   "source": [
    "Q5 = sets[sets['num_parts'] == sets['num_parts'].max()]\n",
    "Q5"
   ]
  },
  {
   "cell_type": "markdown",
   "metadata": {},
   "source": [
    "**Q6:** Create a function called `select_set_row` where you pass it the `set_num` (as a string) and the function returns the respective row of the DataFrame from `sets`. Do not reset the index."
   ]
  },
  {
   "cell_type": "code",
   "execution_count": 10,
   "metadata": {},
   "outputs": [
    {
     "data": {
      "text/html": [
       "<div>\n",
       "<style scoped>\n",
       "    .dataframe tbody tr th:only-of-type {\n",
       "        vertical-align: middle;\n",
       "    }\n",
       "\n",
       "    .dataframe tbody tr th {\n",
       "        vertical-align: top;\n",
       "    }\n",
       "\n",
       "    .dataframe thead th {\n",
       "        text-align: right;\n",
       "    }\n",
       "</style>\n",
       "<table border=\"1\" class=\"dataframe\">\n",
       "  <thead>\n",
       "    <tr style=\"text-align: right;\">\n",
       "      <th></th>\n",
       "      <th>set_num</th>\n",
       "      <th>name</th>\n",
       "      <th>year</th>\n",
       "      <th>theme_id</th>\n",
       "      <th>num_parts</th>\n",
       "    </tr>\n",
       "  </thead>\n",
       "  <tbody>\n",
       "    <tr>\n",
       "      <th>3867</th>\n",
       "      <td>31203-1</td>\n",
       "      <td>World Map</td>\n",
       "      <td>2021</td>\n",
       "      <td>709</td>\n",
       "      <td>11695</td>\n",
       "    </tr>\n",
       "  </tbody>\n",
       "</table>\n",
       "</div>"
      ],
      "text/plain": [
       "      set_num       name  year  theme_id  num_parts\n",
       "3867  31203-1  World Map  2021       709      11695"
      ]
     },
     "execution_count": 10,
     "metadata": {},
     "output_type": "execute_result"
    }
   ],
   "source": [
    "def select_set_row(setNum):\n",
    "    return sets[sets['set_num'] == setNum]\n",
    "\n",
    "select_set_row('31203-1')"
   ]
  },
  {
   "cell_type": "markdown",
   "metadata": {},
   "source": [
    "**Q7:** Create a function called `select_set_numparts` that takes as input a specific number of parts (as an integer) and selects all the rows in the `sets` DataFrame that contain those number of parts.  Return the DataFrame sorted by `year` and then by `set_num`.  Do not reset the index."
   ]
  },
  {
   "cell_type": "code",
   "execution_count": 11,
   "metadata": {},
   "outputs": [],
   "source": [
    "def select_set_numparts(numParts):\n",
    "    return sets[sets['num_parts'] == numParts].sort_values(by = ['year', 'set_num'])"
   ]
  },
  {
   "cell_type": "markdown",
   "metadata": {},
   "source": [
    "**Code Check:** Call the `select_set_numparts()` function to select all sets with `0` number of parts.  There should be 3,146 rows returned."
   ]
  },
  {
   "cell_type": "code",
   "execution_count": 12,
   "metadata": {},
   "outputs": [
    {
     "data": {
      "text/html": [
       "<div>\n",
       "<style scoped>\n",
       "    .dataframe tbody tr th:only-of-type {\n",
       "        vertical-align: middle;\n",
       "    }\n",
       "\n",
       "    .dataframe tbody tr th {\n",
       "        vertical-align: top;\n",
       "    }\n",
       "\n",
       "    .dataframe thead th {\n",
       "        text-align: right;\n",
       "    }\n",
       "</style>\n",
       "<table border=\"1\" class=\"dataframe\">\n",
       "  <thead>\n",
       "    <tr style=\"text-align: right;\">\n",
       "      <th></th>\n",
       "      <th>set_num</th>\n",
       "      <th>name</th>\n",
       "      <th>year</th>\n",
       "      <th>theme_id</th>\n",
       "      <th>num_parts</th>\n",
       "    </tr>\n",
       "  </thead>\n",
       "  <tbody>\n",
       "    <tr>\n",
       "      <th>0</th>\n",
       "      <td>001-1</td>\n",
       "      <td>Gears</td>\n",
       "      <td>1965</td>\n",
       "      <td>1</td>\n",
       "      <td>43</td>\n",
       "    </tr>\n",
       "    <tr>\n",
       "      <th>3966</th>\n",
       "      <td>322-4</td>\n",
       "      <td>Educational Gear Set</td>\n",
       "      <td>1969</td>\n",
       "      <td>523</td>\n",
       "      <td>43</td>\n",
       "    </tr>\n",
       "    <tr>\n",
       "      <th>9866</th>\n",
       "      <td>621-2</td>\n",
       "      <td>Shell Tanker Truck</td>\n",
       "      <td>1970</td>\n",
       "      <td>418</td>\n",
       "      <td>43</td>\n",
       "    </tr>\n",
       "    <tr>\n",
       "      <th>16693</th>\n",
       "      <td>935-1</td>\n",
       "      <td>Roof Bricks, 33 Degrees</td>\n",
       "      <td>1973</td>\n",
       "      <td>473</td>\n",
       "      <td>43</td>\n",
       "    </tr>\n",
       "    <tr>\n",
       "      <th>10228</th>\n",
       "      <td>646-1</td>\n",
       "      <td>Auto Service Truck</td>\n",
       "      <td>1979</td>\n",
       "      <td>67</td>\n",
       "      <td>43</td>\n",
       "    </tr>\n",
       "    <tr>\n",
       "      <th>...</th>\n",
       "      <td>...</td>\n",
       "      <td>...</td>\n",
       "      <td>...</td>\n",
       "      <td>...</td>\n",
       "      <td>...</td>\n",
       "    </tr>\n",
       "    <tr>\n",
       "      <th>5714</th>\n",
       "      <td>41437-1</td>\n",
       "      <td>Mia's Jungle Play Cube</td>\n",
       "      <td>2020</td>\n",
       "      <td>494</td>\n",
       "      <td>43</td>\n",
       "    </tr>\n",
       "    <tr>\n",
       "      <th>928</th>\n",
       "      <td>11948-1</td>\n",
       "      <td>Carnivorous Plant</td>\n",
       "      <td>2021</td>\n",
       "      <td>22</td>\n",
       "      <td>43</td>\n",
       "    </tr>\n",
       "    <tr>\n",
       "      <th>3593</th>\n",
       "      <td>30539-1</td>\n",
       "      <td>Lloyd's Quad Bike</td>\n",
       "      <td>2021</td>\n",
       "      <td>435</td>\n",
       "      <td>43</td>\n",
       "    </tr>\n",
       "    <tr>\n",
       "      <th>9028</th>\n",
       "      <td>562104-1</td>\n",
       "      <td>Ice Cream Shop</td>\n",
       "      <td>2021</td>\n",
       "      <td>494</td>\n",
       "      <td>43</td>\n",
       "    </tr>\n",
       "    <tr>\n",
       "      <th>17602</th>\n",
       "      <td>BLUEGHOST-1</td>\n",
       "      <td>Blue Ghost</td>\n",
       "      <td>2021</td>\n",
       "      <td>230</td>\n",
       "      <td>43</td>\n",
       "    </tr>\n",
       "  </tbody>\n",
       "</table>\n",
       "<p>78 rows × 5 columns</p>\n",
       "</div>"
      ],
      "text/plain": [
       "           set_num                     name  year  theme_id  num_parts\n",
       "0            001-1                    Gears  1965         1         43\n",
       "3966         322-4     Educational Gear Set  1969       523         43\n",
       "9866         621-2       Shell Tanker Truck  1970       418         43\n",
       "16693        935-1  Roof Bricks, 33 Degrees  1973       473         43\n",
       "10228        646-1       Auto Service Truck  1979        67         43\n",
       "...            ...                      ...   ...       ...        ...\n",
       "5714       41437-1   Mia's Jungle Play Cube  2020       494         43\n",
       "928        11948-1        Carnivorous Plant  2021        22         43\n",
       "3593       30539-1        Lloyd's Quad Bike  2021       435         43\n",
       "9028      562104-1           Ice Cream Shop  2021       494         43\n",
       "17602  BLUEGHOST-1               Blue Ghost  2021       230         43\n",
       "\n",
       "[78 rows x 5 columns]"
      ]
     },
     "execution_count": 12,
     "metadata": {},
     "output_type": "execute_result"
    }
   ],
   "source": [
    "select_set_numparts(43)"
   ]
  },
  {
   "cell_type": "markdown",
   "metadata": {},
   "source": [
    "**Q8:** \n",
    "- The oldest set listed was made in what year?  Save the year as `Q8A` (as an integer).  \n",
    "- The newest set listed was made in what year? Save the year as `Q8B` (as an integer)."
   ]
  },
  {
   "cell_type": "code",
   "execution_count": 13,
   "metadata": {},
   "outputs": [
    {
     "data": {
      "text/plain": [
       "1949"
      ]
     },
     "execution_count": 13,
     "metadata": {},
     "output_type": "execute_result"
    }
   ],
   "source": [
    "Q8A = sets['year'].min()\n",
    "Q8A"
   ]
  },
  {
   "cell_type": "code",
   "execution_count": 14,
   "metadata": {},
   "outputs": [
    {
     "data": {
      "text/plain": [
       "2022"
      ]
     },
     "execution_count": 14,
     "metadata": {},
     "output_type": "execute_result"
    }
   ],
   "source": [
    "Q8B = sets['year'].max()\n",
    "Q8B"
   ]
  },
  {
   "cell_type": "markdown",
   "metadata": {},
   "source": [
    "**Q9:** \n",
    "- Create a function called `select_set_year` that takes as input a year (as an integer) and returns the rows from the `sets` DataFrame that matches that year.  Sort the DataFrame by `set_num`.  Do not reset the index."
   ]
  },
  {
   "cell_type": "code",
   "execution_count": 15,
   "metadata": {},
   "outputs": [],
   "source": [
    "def select_set_year(yearNum):\n",
    "    return sets[sets['year'] == yearNum].sort_values(by = 'set_num')"
   ]
  },
  {
   "cell_type": "markdown",
   "metadata": {},
   "source": [
    "**Q10:** \n",
    "- Create a function called `theme_by_year` that takes as input a year (as an integer) and shows the theme ids and theme names (listed in order by theme id) that were in sets that year.  \n",
    "- The column names must be `id` and `name_themes` (to differentiate between the name of a theme and the name of a set) in that order.  \n",
    "- The index should be reset and go from `0` to `n-1`.  \n",
    "- Each theme should only be listed once even if it appeared in more than one set from that year -- duplicate themes should be based on theme id and not name since there are some themes with the same name but with a different id.\n",
    "- Hint:  It will help if you were to think about merging appropriate DataFrames to help you get this answer."
   ]
  },
  {
   "cell_type": "code",
   "execution_count": 16,
   "metadata": {},
   "outputs": [
    {
     "data": {
      "text/html": [
       "<div>\n",
       "<style scoped>\n",
       "    .dataframe tbody tr th:only-of-type {\n",
       "        vertical-align: middle;\n",
       "    }\n",
       "\n",
       "    .dataframe tbody tr th {\n",
       "        vertical-align: top;\n",
       "    }\n",
       "\n",
       "    .dataframe thead th {\n",
       "        text-align: right;\n",
       "    }\n",
       "</style>\n",
       "<table border=\"1\" class=\"dataframe\">\n",
       "  <thead>\n",
       "    <tr style=\"text-align: right;\">\n",
       "      <th></th>\n",
       "      <th>id</th>\n",
       "      <th>name_themes</th>\n",
       "    </tr>\n",
       "  </thead>\n",
       "  <tbody>\n",
       "    <tr>\n",
       "      <th>0</th>\n",
       "      <td>371</td>\n",
       "      <td>Supplemental</td>\n",
       "    </tr>\n",
       "    <tr>\n",
       "      <th>1</th>\n",
       "      <td>497</td>\n",
       "      <td>Books</td>\n",
       "    </tr>\n",
       "    <tr>\n",
       "      <th>2</th>\n",
       "      <td>513</td>\n",
       "      <td>Classic</td>\n",
       "    </tr>\n",
       "  </tbody>\n",
       "</table>\n",
       "</div>"
      ],
      "text/plain": [
       "    id   name_themes\n",
       "0  371  Supplemental\n",
       "1  497         Books\n",
       "2  513       Classic"
      ]
     },
     "execution_count": 16,
     "metadata": {},
     "output_type": "execute_result"
    }
   ],
   "source": [
    "def theme_by_year(numYear):\n",
    "    join_setTheme = pd.merge(sets, themes, left_on = 'theme_id', right_on = 'id')\n",
    "    #dupDrop = join_setTheme.drop_duplicates(subset = 'theme_id')\n",
    "    #paramYear = dupDrop[dupDrop['year'] == numYear]\n",
    "    twoVars = join_setTheme[['id', 'name_y', 'year']].sort_values(by = 'id')\n",
    "    themeName = twoVars.rename(columns ={'id': 'id', 'name_y': 'name_themes'})\n",
    "    themeName = themeName[themeName['year'] == numYear]\n",
    "    themeName = themeName.drop_duplicates(subset = 'id')\n",
    "    \n",
    "    return themeName[['id', 'name_themes']].reset_index(drop = True)\n",
    "\n",
    "theme_by_year(1960)"
   ]
  },
  {
   "cell_type": "markdown",
   "metadata": {},
   "source": [
    "**Code Check:** Call the `theme_by_year()` function on the year `1960`.  Your output should look as follows:\n",
    "\n",
    "| | id | name_themes|\n",
    "|-|---|---|\n",
    "|0|371|Supplemental|\n",
    "|1|497|Books|\n",
    "|2|513|Classic|\n",
    "\n",
    "**Optional Practice:** Call the `theme_by_year()` function using your birth year to see the Lego themes that were popular when you were born."
   ]
  },
  {
   "cell_type": "code",
   "execution_count": 17,
   "metadata": {},
   "outputs": [
    {
     "data": {
      "text/html": [
       "<div>\n",
       "<style scoped>\n",
       "    .dataframe tbody tr th:only-of-type {\n",
       "        vertical-align: middle;\n",
       "    }\n",
       "\n",
       "    .dataframe tbody tr th {\n",
       "        vertical-align: top;\n",
       "    }\n",
       "\n",
       "    .dataframe thead th {\n",
       "        text-align: right;\n",
       "    }\n",
       "</style>\n",
       "<table border=\"1\" class=\"dataframe\">\n",
       "  <thead>\n",
       "    <tr style=\"text-align: right;\">\n",
       "      <th></th>\n",
       "      <th>id</th>\n",
       "      <th>name_themes</th>\n",
       "    </tr>\n",
       "  </thead>\n",
       "  <tbody>\n",
       "    <tr>\n",
       "      <th>0</th>\n",
       "      <td>4</td>\n",
       "      <td>Expert Builder</td>\n",
       "    </tr>\n",
       "    <tr>\n",
       "      <th>1</th>\n",
       "      <td>67</td>\n",
       "      <td>Classic Town</td>\n",
       "    </tr>\n",
       "    <tr>\n",
       "      <th>2</th>\n",
       "      <td>189</td>\n",
       "      <td>Classic Castle</td>\n",
       "    </tr>\n",
       "    <tr>\n",
       "      <th>3</th>\n",
       "      <td>227</td>\n",
       "      <td>Christmas</td>\n",
       "    </tr>\n",
       "    <tr>\n",
       "      <th>4</th>\n",
       "      <td>235</td>\n",
       "      <td>4.5V</td>\n",
       "    </tr>\n",
       "    <tr>\n",
       "      <th>5</th>\n",
       "      <td>363</td>\n",
       "      <td>Boat</td>\n",
       "    </tr>\n",
       "    <tr>\n",
       "      <th>6</th>\n",
       "      <td>364</td>\n",
       "      <td>Building Set with People</td>\n",
       "    </tr>\n",
       "    <tr>\n",
       "      <th>7</th>\n",
       "      <td>404</td>\n",
       "      <td>Hobby Sets</td>\n",
       "    </tr>\n",
       "    <tr>\n",
       "      <th>8</th>\n",
       "      <td>405</td>\n",
       "      <td>Homemaker</td>\n",
       "    </tr>\n",
       "    <tr>\n",
       "      <th>9</th>\n",
       "      <td>412</td>\n",
       "      <td>Airport</td>\n",
       "    </tr>\n",
       "    <tr>\n",
       "      <th>10</th>\n",
       "      <td>453</td>\n",
       "      <td>Technic</td>\n",
       "    </tr>\n",
       "    <tr>\n",
       "      <th>11</th>\n",
       "      <td>469</td>\n",
       "      <td>Basic Set</td>\n",
       "    </tr>\n",
       "    <tr>\n",
       "      <th>12</th>\n",
       "      <td>473</td>\n",
       "      <td>Supplemental</td>\n",
       "    </tr>\n",
       "    <tr>\n",
       "      <th>13</th>\n",
       "      <td>501</td>\n",
       "      <td>Gear</td>\n",
       "    </tr>\n",
       "    <tr>\n",
       "      <th>14</th>\n",
       "      <td>505</td>\n",
       "      <td>Basic Set</td>\n",
       "    </tr>\n",
       "    <tr>\n",
       "      <th>15</th>\n",
       "      <td>632</td>\n",
       "      <td>Town</td>\n",
       "    </tr>\n",
       "  </tbody>\n",
       "</table>\n",
       "</div>"
      ],
      "text/plain": [
       "     id               name_themes\n",
       "0     4            Expert Builder\n",
       "1    67              Classic Town\n",
       "2   189            Classic Castle\n",
       "3   227                 Christmas\n",
       "4   235                      4.5V\n",
       "5   363                      Boat\n",
       "6   364  Building Set with People\n",
       "7   404                Hobby Sets\n",
       "8   405                 Homemaker\n",
       "9   412                   Airport\n",
       "10  453                   Technic\n",
       "11  469                 Basic Set\n",
       "12  473              Supplemental\n",
       "13  501                      Gear\n",
       "14  505                 Basic Set\n",
       "15  632                      Town"
      ]
     },
     "execution_count": 17,
     "metadata": {},
     "output_type": "execute_result"
    }
   ],
   "source": [
    "theme_by_year(1978)"
   ]
  },
  {
   "cell_type": "markdown",
   "metadata": {},
   "source": [
    "**Q11:** \n",
    "- Create a function called `theme_by_name` that takes as input a theme name and outputs all the sets (in `set_num` order) that had that theme.  \n",
    "- The DataFrame should include the following columns in this order and with these exact names: `set_num`,`name_sets`,`year`,`num_parts`, `theme_id`, and `name_themes`.  \n",
    "- The index should go from `0` to `n-1`."
   ]
  },
  {
   "cell_type": "code",
   "execution_count": 18,
   "metadata": {},
   "outputs": [],
   "source": [
    "def theme_by_name(themeName):\n",
    "    setTheme = pd.merge(sets, themes, left_on = 'theme_id', right_on = 'id')\n",
    "    colVals = setTheme[['set_num', 'name_x', 'year', 'num_parts', 'theme_id', 'name_y']].sort_values(by = 'set_num')\n",
    "    nameVals = colVals.rename(columns = {'name_x': 'name_sets', 'name_y': 'name_themes'})\n",
    "    themeVals = nameVals[nameVals['name_themes'] == themeName]\n",
    "    \n",
    "    return themeVals.reset_index(drop = True)"
   ]
  },
  {
   "cell_type": "markdown",
   "metadata": {},
   "source": [
    "**Code Check:** Call the `theme_by_name()` function using the theme name `Gear`.  You should return 1,904 sets that match that theme name."
   ]
  },
  {
   "cell_type": "code",
   "execution_count": 19,
   "metadata": {},
   "outputs": [
    {
     "data": {
      "text/html": [
       "<div>\n",
       "<style scoped>\n",
       "    .dataframe tbody tr th:only-of-type {\n",
       "        vertical-align: middle;\n",
       "    }\n",
       "\n",
       "    .dataframe tbody tr th {\n",
       "        vertical-align: top;\n",
       "    }\n",
       "\n",
       "    .dataframe thead th {\n",
       "        text-align: right;\n",
       "    }\n",
       "</style>\n",
       "<table border=\"1\" class=\"dataframe\">\n",
       "  <thead>\n",
       "    <tr style=\"text-align: right;\">\n",
       "      <th></th>\n",
       "      <th>set_num</th>\n",
       "      <th>name_sets</th>\n",
       "      <th>year</th>\n",
       "      <th>num_parts</th>\n",
       "      <th>theme_id</th>\n",
       "      <th>name_themes</th>\n",
       "    </tr>\n",
       "  </thead>\n",
       "  <tbody>\n",
       "    <tr>\n",
       "      <th>0</th>\n",
       "      <td>11138-1</td>\n",
       "      <td>Bionicle Barraki Wallet</td>\n",
       "      <td>2008</td>\n",
       "      <td>0</td>\n",
       "      <td>501</td>\n",
       "      <td>Gear</td>\n",
       "    </tr>\n",
       "    <tr>\n",
       "      <th>1</th>\n",
       "      <td>119645111436-1</td>\n",
       "      <td>Classic Space Astronaut Plush (Red)</td>\n",
       "      <td>2021</td>\n",
       "      <td>0</td>\n",
       "      <td>501</td>\n",
       "      <td>Gear</td>\n",
       "    </tr>\n",
       "    <tr>\n",
       "      <th>2</th>\n",
       "      <td>119645111504-1</td>\n",
       "      <td>Classic Space Astronaut Plush (Blue)</td>\n",
       "      <td>2021</td>\n",
       "      <td>0</td>\n",
       "      <td>501</td>\n",
       "      <td>Gear</td>\n",
       "    </tr>\n",
       "    <tr>\n",
       "      <th>3</th>\n",
       "      <td>119645111740-1</td>\n",
       "      <td>Classic Space Astronaut Plush (White)</td>\n",
       "      <td>2021</td>\n",
       "      <td>0</td>\n",
       "      <td>501</td>\n",
       "      <td>Gear</td>\n",
       "    </tr>\n",
       "    <tr>\n",
       "      <th>4</th>\n",
       "      <td>119645111818-1</td>\n",
       "      <td>Classic Space Astronaut Plush (Pink)</td>\n",
       "      <td>2021</td>\n",
       "      <td>0</td>\n",
       "      <td>501</td>\n",
       "      <td>Gear</td>\n",
       "    </tr>\n",
       "    <tr>\n",
       "      <th>...</th>\n",
       "      <td>...</td>\n",
       "      <td>...</td>\n",
       "      <td>...</td>\n",
       "      <td>...</td>\n",
       "      <td>...</td>\n",
       "      <td>...</td>\n",
       "    </tr>\n",
       "    <tr>\n",
       "      <th>1899</th>\n",
       "      <td>WATCH-3</td>\n",
       "      <td>Watch System Voyager (UFO Space)</td>\n",
       "      <td>1997</td>\n",
       "      <td>29</td>\n",
       "      <td>501</td>\n",
       "      <td>Gear</td>\n",
       "    </tr>\n",
       "    <tr>\n",
       "      <th>1900</th>\n",
       "      <td>WIIGAME-1</td>\n",
       "      <td>Bionicle Heroes - Wii</td>\n",
       "      <td>2007</td>\n",
       "      <td>0</td>\n",
       "      <td>501</td>\n",
       "      <td>Gear</td>\n",
       "    </tr>\n",
       "    <tr>\n",
       "      <th>1901</th>\n",
       "      <td>WIIGAME-2</td>\n",
       "      <td>Indiana Jones: The Original Adventures Video G...</td>\n",
       "      <td>2008</td>\n",
       "      <td>0</td>\n",
       "      <td>501</td>\n",
       "      <td>Gear</td>\n",
       "    </tr>\n",
       "    <tr>\n",
       "      <th>1902</th>\n",
       "      <td>WOODENELEPHANT-1</td>\n",
       "      <td>Original Wooden Elephant Pull-Along Toy and Print</td>\n",
       "      <td>2021</td>\n",
       "      <td>0</td>\n",
       "      <td>501</td>\n",
       "      <td>Gear</td>\n",
       "    </tr>\n",
       "    <tr>\n",
       "      <th>1903</th>\n",
       "      <td>ZX8000-1</td>\n",
       "      <td>ZX 8000 LEGO Sneaker</td>\n",
       "      <td>2020</td>\n",
       "      <td>0</td>\n",
       "      <td>501</td>\n",
       "      <td>Gear</td>\n",
       "    </tr>\n",
       "  </tbody>\n",
       "</table>\n",
       "<p>1904 rows × 6 columns</p>\n",
       "</div>"
      ],
      "text/plain": [
       "               set_num                                          name_sets  \\\n",
       "0              11138-1                            Bionicle Barraki Wallet   \n",
       "1       119645111436-1                Classic Space Astronaut Plush (Red)   \n",
       "2       119645111504-1               Classic Space Astronaut Plush (Blue)   \n",
       "3       119645111740-1              Classic Space Astronaut Plush (White)   \n",
       "4       119645111818-1               Classic Space Astronaut Plush (Pink)   \n",
       "...                ...                                                ...   \n",
       "1899           WATCH-3                   Watch System Voyager (UFO Space)   \n",
       "1900         WIIGAME-1                              Bionicle Heroes - Wii   \n",
       "1901         WIIGAME-2  Indiana Jones: The Original Adventures Video G...   \n",
       "1902  WOODENELEPHANT-1  Original Wooden Elephant Pull-Along Toy and Print   \n",
       "1903          ZX8000-1                               ZX 8000 LEGO Sneaker   \n",
       "\n",
       "      year  num_parts  theme_id name_themes  \n",
       "0     2008          0       501        Gear  \n",
       "1     2021          0       501        Gear  \n",
       "2     2021          0       501        Gear  \n",
       "3     2021          0       501        Gear  \n",
       "4     2021          0       501        Gear  \n",
       "...    ...        ...       ...         ...  \n",
       "1899  1997         29       501        Gear  \n",
       "1900  2007          0       501        Gear  \n",
       "1901  2008          0       501        Gear  \n",
       "1902  2021          0       501        Gear  \n",
       "1903  2020          0       501        Gear  \n",
       "\n",
       "[1904 rows x 6 columns]"
      ]
     },
     "execution_count": 19,
     "metadata": {},
     "output_type": "execute_result"
    }
   ],
   "source": [
    "theme_by_name(\"Gear\")"
   ]
  },
  {
   "cell_type": "markdown",
   "metadata": {},
   "source": [
    "**Q12:** Create a function called `theme_by_setnum` that takes as input the set_num (as a string) and returns the respective theme name as a string."
   ]
  },
  {
   "cell_type": "code",
   "execution_count": 35,
   "metadata": {},
   "outputs": [
    {
     "data": {
      "text/plain": [
       "'Classic'"
      ]
     },
     "execution_count": 35,
     "metadata": {},
     "output_type": "execute_result"
    }
   ],
   "source": [
    "def theme_by_setnum(setString):\n",
    "    joinData = pd.merge(sets, themes, left_on = 'theme_id', right_on = 'id')\n",
    "    newData = joinData[['set_num', 'name_y']]\n",
    "    dataVals = newData.rename(columns = {'name_y': 'theme_name'})\n",
    "    dataVals = dataVals.reset_index(drop = True)\n",
    "    dataVals = dataVals[dataVals['set_num'] == setString]\n",
    "    dataVals = dataVals.iloc[0]['theme_name']\n",
    "    \n",
    "    return dataVals\n",
    "\n",
    "theme_by_setnum('10714-1')"
   ]
  },
  {
   "cell_type": "markdown",
   "metadata": {},
   "source": [
    "**Code Check:** Visit the [Sets page](https://rebrickable.com/sets/) from the Rebrickable website and find a set that you like.  Call your `theme_by_setnum()` function on that set and make sure the correct theme name is output."
   ]
  },
  {
   "cell_type": "code",
   "execution_count": 38,
   "metadata": {},
   "outputs": [
    {
     "name": "stdout",
     "output_type": "stream",
     "text": [
      "Stranger Things\n"
     ]
    }
   ],
   "source": [
    "print(theme_by_setnum('75810-1'))\n"
   ]
  },
  {
   "cell_type": "markdown",
   "metadata": {},
   "source": [
    "**Millennium Falcon Prep Exercise:** Find all the sets named 'Millennium Falcon'. Of these sets, find the set with the largest number of parts.  You will use this information for later questions."
   ]
  },
  {
   "cell_type": "code",
   "execution_count": 24,
   "metadata": {},
   "outputs": [
    {
     "data": {
      "text/html": [
       "<div>\n",
       "<style scoped>\n",
       "    .dataframe tbody tr th:only-of-type {\n",
       "        vertical-align: middle;\n",
       "    }\n",
       "\n",
       "    .dataframe tbody tr th {\n",
       "        vertical-align: top;\n",
       "    }\n",
       "\n",
       "    .dataframe thead th {\n",
       "        text-align: right;\n",
       "    }\n",
       "</style>\n",
       "<table border=\"1\" class=\"dataframe\">\n",
       "  <thead>\n",
       "    <tr style=\"text-align: right;\">\n",
       "      <th></th>\n",
       "      <th>set_num</th>\n",
       "      <th>name_x</th>\n",
       "      <th>year</th>\n",
       "      <th>theme_id</th>\n",
       "      <th>num_parts</th>\n",
       "      <th>id</th>\n",
       "      <th>name_y</th>\n",
       "      <th>parent_id</th>\n",
       "    </tr>\n",
       "  </thead>\n",
       "  <tbody>\n",
       "    <tr>\n",
       "      <th>3199</th>\n",
       "      <td>75192-1</td>\n",
       "      <td>Millennium Falcon</td>\n",
       "      <td>2017</td>\n",
       "      <td>171</td>\n",
       "      <td>7541</td>\n",
       "      <td>171</td>\n",
       "      <td>Ultimate Collector Series</td>\n",
       "      <td>158.0</td>\n",
       "    </tr>\n",
       "  </tbody>\n",
       "</table>\n",
       "</div>"
      ],
      "text/plain": [
       "      set_num             name_x  year  theme_id  num_parts   id  \\\n",
       "3199  75192-1  Millennium Falcon  2017       171       7541  171   \n",
       "\n",
       "                         name_y  parent_id  \n",
       "3199  Ultimate Collector Series      158.0  "
      ]
     },
     "execution_count": 24,
     "metadata": {},
     "output_type": "execute_result"
    }
   ],
   "source": [
    "millFalcon = pd.merge(sets, themes, left_on = 'theme_id', right_on = 'id')\n",
    "milFalc = millFalcon[millFalcon['name_x'] == 'Millennium Falcon']\n",
    "milFalc.nlargest(1, 'num_parts')"
   ]
  },
  {
   "cell_type": "markdown",
   "metadata": {},
   "source": [
    "**Q13:** \n",
    "- How many minifigs are contained in the set from the `Millennium Falcon Prep Exercise`?  Save this as `Q13` (as an integer).  \n",
    "- Note that there are sometimes multiple versions of a set as shown in the `inventories` table.  This will not matter for this question as there is only one version for the respective set but this should be noted for future questions.\n",
    "- Remember to show your work or your answer will manually get marked as incorrect."
   ]
  },
  {
   "cell_type": "code",
   "execution_count": 25,
   "metadata": {},
   "outputs": [
    {
     "data": {
      "text/plain": [
       "8"
      ]
     },
     "execution_count": 25,
     "metadata": {},
     "output_type": "execute_result"
    }
   ],
   "source": [
    "milFalc = milFalc.rename(columns = {'id': 'idT'})\n",
    "x = pd.merge(milFalc, inventories, left_on = 'set_num', right_on = 'set_num')\n",
    "y = pd.merge(x, inventory_minifigs, left_on = 'id', right_on = 'inventory_id')\n",
    "z = pd.merge(y, minifigs, left_on = 'fig_num', right_on = 'fig_num')\n",
    "z = z[z['set_num'] == '75192-1']\n",
    "Q13 = z.shape[0]\n",
    "Q13"
   ]
  },
  {
   "cell_type": "markdown",
   "metadata": {},
   "source": [
    "**Q14:** \n",
    "- Create a function called `get_minifigs` that takes as input a set number (as a string) and a version number (as an integer) and outputs all minifigs from that set / version combination.  \n",
    "- The DataFrame should be in `fig_num` order with the following columns/column names: `set_num`, `fig_num`, `fig_name`, `fig_num_parts`.  \n",
    "- The index should go from 0 to n-1."
   ]
  },
  {
   "cell_type": "code",
   "execution_count": 26,
   "metadata": {},
   "outputs": [
    {
     "data": {
      "text/html": [
       "<div>\n",
       "<style scoped>\n",
       "    .dataframe tbody tr th:only-of-type {\n",
       "        vertical-align: middle;\n",
       "    }\n",
       "\n",
       "    .dataframe tbody tr th {\n",
       "        vertical-align: top;\n",
       "    }\n",
       "\n",
       "    .dataframe thead th {\n",
       "        text-align: right;\n",
       "    }\n",
       "</style>\n",
       "<table border=\"1\" class=\"dataframe\">\n",
       "  <thead>\n",
       "    <tr style=\"text-align: right;\">\n",
       "      <th></th>\n",
       "      <th>set_num</th>\n",
       "      <th>fig_num</th>\n",
       "      <th>fig_name</th>\n",
       "      <th>fig_num_parts</th>\n",
       "    </tr>\n",
       "  </thead>\n",
       "  <tbody>\n",
       "    <tr>\n",
       "      <th>0</th>\n",
       "      <td>3931-1</td>\n",
       "      <td>fig-001549</td>\n",
       "      <td>Emma - Lavender Top, Magenta Skirt</td>\n",
       "      <td>4</td>\n",
       "    </tr>\n",
       "  </tbody>\n",
       "</table>\n",
       "</div>"
      ],
      "text/plain": [
       "  set_num     fig_num                            fig_name  fig_num_parts\n",
       "0  3931-1  fig-001549  Emma - Lavender Top, Magenta Skirt              4"
      ]
     },
     "execution_count": 26,
     "metadata": {},
     "output_type": "execute_result"
    }
   ],
   "source": [
    "def get_minifigs(set_string, versNum):\n",
    "    inv_invMini = pd.merge(inventories, inventory_minifigs, left_on = 'id', right_on = 'inventory_id')\n",
    "    invMiniFig = pd.merge(inv_invMini, minifigs, left_on = 'fig_num', right_on = 'fig_num')\n",
    "    invMiniFig = invMiniFig.rename(columns = {'name': 'fig_name', 'num_parts': 'fig_num_parts'})\n",
    "    figSet = invMiniFig[(invMiniFig['set_num'] == set_string) & (invMiniFig['version'] == versNum)]\n",
    "    figSet = figSet[['set_num', 'fig_num', 'fig_name', 'fig_num_parts']].sort_values(by = 'fig_num')\n",
    "    \n",
    "    return figSet.reset_index(drop = True)\n",
    "\n",
    "get_minifigs('3931-1', 1)"
   ]
  },
  {
   "cell_type": "markdown",
   "metadata": {},
   "source": [
    "**Q15:** Using the above function, output information about the minifigs from the set discussed in the `Millennium Falcon Prep Exercise`.  Save this output as `Q15`."
   ]
  },
  {
   "cell_type": "code",
   "execution_count": 27,
   "metadata": {},
   "outputs": [
    {
     "data": {
      "text/html": [
       "<div>\n",
       "<style scoped>\n",
       "    .dataframe tbody tr th:only-of-type {\n",
       "        vertical-align: middle;\n",
       "    }\n",
       "\n",
       "    .dataframe tbody tr th {\n",
       "        vertical-align: top;\n",
       "    }\n",
       "\n",
       "    .dataframe thead th {\n",
       "        text-align: right;\n",
       "    }\n",
       "</style>\n",
       "<table border=\"1\" class=\"dataframe\">\n",
       "  <thead>\n",
       "    <tr style=\"text-align: right;\">\n",
       "      <th></th>\n",
       "      <th>set_num</th>\n",
       "      <th>fig_num</th>\n",
       "      <th>fig_name</th>\n",
       "      <th>fig_num_parts</th>\n",
       "    </tr>\n",
       "  </thead>\n",
       "  <tbody>\n",
       "    <tr>\n",
       "      <th>0</th>\n",
       "      <td>75192-1</td>\n",
       "      <td>fig-001714</td>\n",
       "      <td>Chewbacca, Dark Brown</td>\n",
       "      <td>3</td>\n",
       "    </tr>\n",
       "    <tr>\n",
       "      <th>1</th>\n",
       "      <td>75192-1</td>\n",
       "      <td>fig-001810</td>\n",
       "      <td>Finn, Black Undershirt</td>\n",
       "      <td>4</td>\n",
       "    </tr>\n",
       "    <tr>\n",
       "      <th>2</th>\n",
       "      <td>75192-1</td>\n",
       "      <td>fig-002057</td>\n",
       "      <td>Rey, Dark Tan Robe</td>\n",
       "      <td>4</td>\n",
       "    </tr>\n",
       "    <tr>\n",
       "      <th>3</th>\n",
       "      <td>75192-1</td>\n",
       "      <td>fig-002514</td>\n",
       "      <td>C-3PO, Pearl Gold, Colorful Wires, Printed Legs</td>\n",
       "      <td>3</td>\n",
       "    </tr>\n",
       "    <tr>\n",
       "      <th>4</th>\n",
       "      <td>75192-1</td>\n",
       "      <td>fig-002544</td>\n",
       "      <td>BB-8</td>\n",
       "      <td>2</td>\n",
       "    </tr>\n",
       "    <tr>\n",
       "      <th>5</th>\n",
       "      <td>75192-1</td>\n",
       "      <td>fig-002549</td>\n",
       "      <td>Princess Leia, Hoth Outfit, White Jacket, Prin...</td>\n",
       "      <td>4</td>\n",
       "    </tr>\n",
       "    <tr>\n",
       "      <th>6</th>\n",
       "      <td>75192-1</td>\n",
       "      <td>fig-002550</td>\n",
       "      <td>Han Solo, Dark Blue Jacket, Dark Brown Legs, P...</td>\n",
       "      <td>4</td>\n",
       "    </tr>\n",
       "    <tr>\n",
       "      <th>7</th>\n",
       "      <td>75192-1</td>\n",
       "      <td>fig-002551</td>\n",
       "      <td>Han Solo, Old, Angry</td>\n",
       "      <td>4</td>\n",
       "    </tr>\n",
       "  </tbody>\n",
       "</table>\n",
       "</div>"
      ],
      "text/plain": [
       "   set_num     fig_num                                           fig_name  \\\n",
       "0  75192-1  fig-001714                              Chewbacca, Dark Brown   \n",
       "1  75192-1  fig-001810                             Finn, Black Undershirt   \n",
       "2  75192-1  fig-002057                                 Rey, Dark Tan Robe   \n",
       "3  75192-1  fig-002514    C-3PO, Pearl Gold, Colorful Wires, Printed Legs   \n",
       "4  75192-1  fig-002544                                               BB-8   \n",
       "5  75192-1  fig-002549  Princess Leia, Hoth Outfit, White Jacket, Prin...   \n",
       "6  75192-1  fig-002550  Han Solo, Dark Blue Jacket, Dark Brown Legs, P...   \n",
       "7  75192-1  fig-002551                               Han Solo, Old, Angry   \n",
       "\n",
       "   fig_num_parts  \n",
       "0              3  \n",
       "1              4  \n",
       "2              4  \n",
       "3              3  \n",
       "4              2  \n",
       "5              4  \n",
       "6              4  \n",
       "7              4  "
      ]
     },
     "execution_count": 27,
     "metadata": {},
     "output_type": "execute_result"
    }
   ],
   "source": [
    "Q15 = get_minifigs('75192-1', 1)\n",
    "Q15"
   ]
  },
  {
   "cell_type": "markdown",
   "metadata": {},
   "source": [
    "**Code Check:** Make sure that your `get_minifigs()` function works with both version 1 and version 2 of set 10217-1, Harry Potter's Diagon Alley.  Both versions should have 11 minifigs in the DataFrame."
   ]
  },
  {
   "cell_type": "code",
   "execution_count": 28,
   "metadata": {},
   "outputs": [
    {
     "name": "stdout",
     "output_type": "stream",
     "text": [
      "11\n",
      "11\n"
     ]
    }
   ],
   "source": [
    "print(get_minifigs('10217-1', 1).shape[0])\n",
    "print(get_minifigs('10217-1', 1).shape[0])"
   ]
  },
  {
   "cell_type": "markdown",
   "metadata": {},
   "source": [
    "**Q16:** \n",
    "- Create a function called `minifigs_from_themes` that takes as input a theme id (as an integer) and outputs all the minifigs contained in sets with that theme.  \n",
    "- The DataFrame should be in `fig_num` order with the following columns/column names: `fig_num`, `fig_name`. \n",
    "- The index should go from 0 to n-1.  \n",
    "- Exact duplicates should be removed so that only unique figs are included."
   ]
  },
  {
   "cell_type": "code",
   "execution_count": 29,
   "metadata": {},
   "outputs": [],
   "source": [
    "def minifigs_from_themes(themeID):\n",
    "    set2Inv = pd.merge(sets, inventories, left_on = 'set_num', right_on = 'set_num')\n",
    "    setInv_fig = pd.merge(set2Inv, inventory_minifigs, left_on = 'id', right_on = 'inventory_id')\n",
    "    setMinis = pd.merge(setInv_fig, minifigs, left_on = 'fig_num', right_on = 'fig_num')\n",
    "    setMinis = setMinis.rename(columns = {'name_y': 'fig_name'})\n",
    "    setID = setMinis[setMinis['theme_id'] == themeID]\n",
    "    themeFigs = setID[['fig_num', 'fig_name']].sort_values(by = 'fig_num')\n",
    "    themeFigs = themeFigs.drop_duplicates(subset = 'fig_num')\n",
    "    \n",
    "    return themeFigs.reset_index(drop = True)"
   ]
  },
  {
   "cell_type": "markdown",
   "metadata": {},
   "source": [
    "**Code Check:** Call the `minifigs_from_themes()` function using the theme number of the set discussed in the `Millennium Falcon Prep Exercise`.  There should be 149 minifigs output for that respective theme."
   ]
  },
  {
   "cell_type": "code",
   "execution_count": 30,
   "metadata": {},
   "outputs": [
    {
     "data": {
      "text/plain": [
       "149"
      ]
     },
     "execution_count": 30,
     "metadata": {},
     "output_type": "execute_result"
    }
   ],
   "source": [
    "minifigs_from_themes(171).shape[0]"
   ]
  },
  {
   "cell_type": "markdown",
   "metadata": {},
   "source": [
    "**Q17:** \n",
    "- Create a function called `sets_from_minifig` that takes as input a minifig number (as a string) and returns a list of sets a minifig has appeared in.  \n",
    "- Return a DataFrame (sorted by `set_num` and then by `version`) with the following columns: `set_num`, `version`,`name_sets`, `fig_num`, `fig_name`.  \n",
    "- The index should go from 0 to n-1."
   ]
  },
  {
   "cell_type": "code",
   "execution_count": 31,
   "metadata": {},
   "outputs": [],
   "source": [
    "def sets_from_minifig(figNum):\n",
    "    sets2Inv = pd.merge(sets, inventories, left_on = 'set_num', right_on = 'set_num')\n",
    "    setsInv_fig = pd.merge(sets2Inv, inventory_minifigs, left_on = 'id', right_on = 'inventory_id')\n",
    "    setsMini = pd.merge(setsInv_fig, minifigs, left_on = 'fig_num', right_on = 'fig_num')\n",
    "    setsMini = setsMini.rename(columns = {'name_x': 'name_sets', 'name_y': 'fig_name'})\n",
    "    figEntry = setsMini[setsMini['fig_num'] == figNum]\n",
    "    figSets = figEntry[['set_num', 'version', 'name_sets', 'fig_num', 'fig_name']].sort_values(by = ['set_num', 'version'])\n",
    "    \n",
    "    return figSets.reset_index(drop = True)"
   ]
  },
  {
   "cell_type": "markdown",
   "metadata": {},
   "source": [
    "**Code Check:** Call your `sets_from_minifig()` function on one of the Lego Friends minifigs, Andrea, who has figure number: `fig-001039`.  Your function should return a DataFrame that contains the following sets:\n",
    "\n",
    "- Andrea on the Beach\n",
    "- Birthday Party\n",
    "- City Park Cafe"
   ]
  },
  {
   "cell_type": "code",
   "execution_count": 32,
   "metadata": {},
   "outputs": [
    {
     "data": {
      "text/html": [
       "<div>\n",
       "<style scoped>\n",
       "    .dataframe tbody tr th:only-of-type {\n",
       "        vertical-align: middle;\n",
       "    }\n",
       "\n",
       "    .dataframe tbody tr th {\n",
       "        vertical-align: top;\n",
       "    }\n",
       "\n",
       "    .dataframe thead th {\n",
       "        text-align: right;\n",
       "    }\n",
       "</style>\n",
       "<table border=\"1\" class=\"dataframe\">\n",
       "  <thead>\n",
       "    <tr style=\"text-align: right;\">\n",
       "      <th></th>\n",
       "      <th>set_num</th>\n",
       "      <th>version</th>\n",
       "      <th>name_sets</th>\n",
       "      <th>fig_num</th>\n",
       "      <th>fig_name</th>\n",
       "    </tr>\n",
       "  </thead>\n",
       "  <tbody>\n",
       "    <tr>\n",
       "      <th>0</th>\n",
       "      <td>30100-1</td>\n",
       "      <td>1</td>\n",
       "      <td>Andrea on the Beach</td>\n",
       "      <td>fig-001039</td>\n",
       "      <td>Andrea - Bright Light Orange Top, Light Aqua S...</td>\n",
       "    </tr>\n",
       "    <tr>\n",
       "      <th>1</th>\n",
       "      <td>30107-1</td>\n",
       "      <td>1</td>\n",
       "      <td>Birthday Party</td>\n",
       "      <td>fig-001039</td>\n",
       "      <td>Andrea - Bright Light Orange Top, Light Aqua S...</td>\n",
       "    </tr>\n",
       "    <tr>\n",
       "      <th>2</th>\n",
       "      <td>3061-1</td>\n",
       "      <td>1</td>\n",
       "      <td>City Park Café</td>\n",
       "      <td>fig-001039</td>\n",
       "      <td>Andrea - Bright Light Orange Top, Light Aqua S...</td>\n",
       "    </tr>\n",
       "  </tbody>\n",
       "</table>\n",
       "</div>"
      ],
      "text/plain": [
       "   set_num  version            name_sets     fig_num  \\\n",
       "0  30100-1        1  Andrea on the Beach  fig-001039   \n",
       "1  30107-1        1       Birthday Party  fig-001039   \n",
       "2   3061-1        1       City Park Café  fig-001039   \n",
       "\n",
       "                                            fig_name  \n",
       "0  Andrea - Bright Light Orange Top, Light Aqua S...  \n",
       "1  Andrea - Bright Light Orange Top, Light Aqua S...  \n",
       "2  Andrea - Bright Light Orange Top, Light Aqua S...  "
      ]
     },
     "execution_count": 32,
     "metadata": {},
     "output_type": "execute_result"
    }
   ],
   "source": [
    "sets_from_minifig('fig-001039')"
   ]
  },
  {
   "cell_type": "markdown",
   "metadata": {},
   "source": [
    "**Q18:** \n",
    "\n",
    "*Note:  Before you begin working on this question, please note that CodeGrade has a 1GB RAM limit.  If you see an `Exit -9` code when submitting your assignment, it is probably due to this RAM limit and previous students had an issue with this question causing too much memory usage.  The biggest thing to think about is to only use the tables that you need to answer for this question.  For instance, you do not need any of the minifigs data since this is not needed for the output and the merging of this data could cause the number of rows to \"explode\" in terms of the total count.  I understand that this can be annoying that we have to work around CodeGrade's limitations, but it is good practice in memory management.*\n",
    "\n",
    "*You should only need to merge the following datasets for this answer so as to not go above the RAM limit: `themes`, `sets`, `inventories`, `inventory_parts`, `parts`, and `colors`*\n",
    "\n",
    "- Create a function called `set_parts` that takes as input the set number (as a string) and version number (as an integer) and outputs a DataFrame with each part in the set.  \n",
    "- The DataFrame should have the following columns/column names: `set_num`, `version`, `name_sets`, `year`, `name_themes`, `part_num`, `name_part`, `name_color`,`quantity`,`is_spare`.  \n",
    "- The Data should be sorted by `part_num` and then `name_color`.  \n",
    "- The index should go from 0 to n-1."
   ]
  },
  {
   "cell_type": "code",
   "execution_count": 33,
   "metadata": {},
   "outputs": [],
   "source": [
    "def set_parts(setNumStr, verzNum):\n",
    "    mOne = pd.merge(sets, themes, left_on = 'theme_id', right_on = 'id')\n",
    "    mOne = mOne.rename(columns = {'id': 'idT', 'name_x': 'name_sets', 'name_y': 'name_themes'})\n",
    "    mTwo = pd.merge(mOne, inventories, left_on = 'set_num', right_on = 'set_num')\n",
    "    mThree = pd.merge(mTwo, inventory_parts, left_on = 'id', right_on = 'inventory_id')\n",
    "    mFour = pd.merge(mThree, parts, left_on = 'part_num', right_on = 'part_num')\n",
    "    mFive = pd.merge(mFour, colors, left_on = 'color_id', right_on = 'id')\n",
    "    mFive = mFive.rename(columns = {'name_x': 'name_part', 'name_y': 'name_color'})\n",
    "    inpSetNum = mFive[(mFive['set_num'] == setNumStr) & (mFive['version'] == verzNum)]\n",
    "    partSets = inpSetNum[['set_num', 'version', 'name_sets', 'year', 'name_themes', 'part_num', 'name_part', 'name_color',\n",
    "                         'quantity', 'is_spare']].sort_values(by = ['part_num', 'name_color'])\n",
    "    \n",
    "    return partSets.reset_index(drop = True) "
   ]
  },
  {
   "cell_type": "markdown",
   "metadata": {},
   "source": [
    "**Code Check**: Using the `set_parts()` function, output a list of parts for the set discussed in the `Millennium Falcon Prep Exercise`. There should be a total of 730 rows in the DataFrame, which includes 676 parts and 54 spare parts. You can check the respective page on the rebrickable website to verify these results."
   ]
  },
  {
   "cell_type": "code",
   "execution_count": 34,
   "metadata": {},
   "outputs": [
    {
     "data": {
      "text/html": [
       "<div>\n",
       "<style scoped>\n",
       "    .dataframe tbody tr th:only-of-type {\n",
       "        vertical-align: middle;\n",
       "    }\n",
       "\n",
       "    .dataframe tbody tr th {\n",
       "        vertical-align: top;\n",
       "    }\n",
       "\n",
       "    .dataframe thead th {\n",
       "        text-align: right;\n",
       "    }\n",
       "</style>\n",
       "<table border=\"1\" class=\"dataframe\">\n",
       "  <thead>\n",
       "    <tr style=\"text-align: right;\">\n",
       "      <th></th>\n",
       "      <th>set_num</th>\n",
       "      <th>version</th>\n",
       "      <th>name_sets</th>\n",
       "      <th>year</th>\n",
       "      <th>name_themes</th>\n",
       "      <th>part_num</th>\n",
       "      <th>name_part</th>\n",
       "      <th>name_color</th>\n",
       "      <th>quantity</th>\n",
       "      <th>is_spare</th>\n",
       "    </tr>\n",
       "  </thead>\n",
       "  <tbody>\n",
       "    <tr>\n",
       "      <th>0</th>\n",
       "      <td>21041-1</td>\n",
       "      <td>2</td>\n",
       "      <td>Great Wall of China</td>\n",
       "      <td>2018</td>\n",
       "      <td>Architecture</td>\n",
       "      <td>11211</td>\n",
       "      <td>Brick Special 1 x 2 with 2 Studs on 1 Side</td>\n",
       "      <td>Tan</td>\n",
       "      <td>1</td>\n",
       "      <td>f</td>\n",
       "    </tr>\n",
       "    <tr>\n",
       "      <th>1</th>\n",
       "      <td>21041-1</td>\n",
       "      <td>2</td>\n",
       "      <td>Great Wall of China</td>\n",
       "      <td>2018</td>\n",
       "      <td>Architecture</td>\n",
       "      <td>14417</td>\n",
       "      <td>Plate Special 1 x 2 with 5.9mm Centre Side Tow...</td>\n",
       "      <td>Dark Bluish Gray</td>\n",
       "      <td>1</td>\n",
       "      <td>f</td>\n",
       "    </tr>\n",
       "    <tr>\n",
       "      <th>2</th>\n",
       "      <td>21041-1</td>\n",
       "      <td>2</td>\n",
       "      <td>Great Wall of China</td>\n",
       "      <td>2018</td>\n",
       "      <td>Architecture</td>\n",
       "      <td>14704</td>\n",
       "      <td>Plate Special 1 x 2 5.9mm Centre Side Cup</td>\n",
       "      <td>Light Bluish Gray</td>\n",
       "      <td>1</td>\n",
       "      <td>f</td>\n",
       "    </tr>\n",
       "    <tr>\n",
       "      <th>3</th>\n",
       "      <td>21041-1</td>\n",
       "      <td>2</td>\n",
       "      <td>Great Wall of China</td>\n",
       "      <td>2018</td>\n",
       "      <td>Architecture</td>\n",
       "      <td>15573</td>\n",
       "      <td>Plate Special 1 x 2 with 1 Stud with Groove an...</td>\n",
       "      <td>Dark Green</td>\n",
       "      <td>2</td>\n",
       "      <td>f</td>\n",
       "    </tr>\n",
       "    <tr>\n",
       "      <th>4</th>\n",
       "      <td>21041-1</td>\n",
       "      <td>2</td>\n",
       "      <td>Great Wall of China</td>\n",
       "      <td>2018</td>\n",
       "      <td>Architecture</td>\n",
       "      <td>15573</td>\n",
       "      <td>Plate Special 1 x 2 with 1 Stud with Groove an...</td>\n",
       "      <td>Tan</td>\n",
       "      <td>14</td>\n",
       "      <td>f</td>\n",
       "    </tr>\n",
       "    <tr>\n",
       "      <th>...</th>\n",
       "      <td>...</td>\n",
       "      <td>...</td>\n",
       "      <td>...</td>\n",
       "      <td>...</td>\n",
       "      <td>...</td>\n",
       "      <td>...</td>\n",
       "      <td>...</td>\n",
       "      <td>...</td>\n",
       "      <td>...</td>\n",
       "      <td>...</td>\n",
       "    </tr>\n",
       "    <tr>\n",
       "      <th>81</th>\n",
       "      <td>21041-1</td>\n",
       "      <td>2</td>\n",
       "      <td>Great Wall of China</td>\n",
       "      <td>2018</td>\n",
       "      <td>Architecture</td>\n",
       "      <td>92280</td>\n",
       "      <td>Plate Special 1 x 2 [Top Clip]</td>\n",
       "      <td>Yellow</td>\n",
       "      <td>2</td>\n",
       "      <td>f</td>\n",
       "    </tr>\n",
       "    <tr>\n",
       "      <th>82</th>\n",
       "      <td>21041-1</td>\n",
       "      <td>2</td>\n",
       "      <td>Great Wall of China</td>\n",
       "      <td>2018</td>\n",
       "      <td>Architecture</td>\n",
       "      <td>96874</td>\n",
       "      <td>Brick and Axle Separator v2.0</td>\n",
       "      <td>Orange</td>\n",
       "      <td>1</td>\n",
       "      <td>f</td>\n",
       "    </tr>\n",
       "    <tr>\n",
       "      <th>83</th>\n",
       "      <td>21041-1</td>\n",
       "      <td>2</td>\n",
       "      <td>Great Wall of China</td>\n",
       "      <td>2018</td>\n",
       "      <td>Architecture</td>\n",
       "      <td>98283</td>\n",
       "      <td>Brick Special 1 x 2 with Masonry Brick Profile</td>\n",
       "      <td>Tan</td>\n",
       "      <td>21</td>\n",
       "      <td>f</td>\n",
       "    </tr>\n",
       "    <tr>\n",
       "      <th>84</th>\n",
       "      <td>21041-1</td>\n",
       "      <td>2</td>\n",
       "      <td>Great Wall of China</td>\n",
       "      <td>2018</td>\n",
       "      <td>Architecture</td>\n",
       "      <td>98560</td>\n",
       "      <td>Slope 75° 2 x 2 x 3 [Solid Studs]</td>\n",
       "      <td>Dark Green</td>\n",
       "      <td>13</td>\n",
       "      <td>f</td>\n",
       "    </tr>\n",
       "    <tr>\n",
       "      <th>85</th>\n",
       "      <td>21041-1</td>\n",
       "      <td>2</td>\n",
       "      <td>Great Wall of China</td>\n",
       "      <td>2018</td>\n",
       "      <td>Architecture</td>\n",
       "      <td>99206</td>\n",
       "      <td>Plate Special 2 x 2 x 0.667 with Two Studs On ...</td>\n",
       "      <td>Tan</td>\n",
       "      <td>4</td>\n",
       "      <td>f</td>\n",
       "    </tr>\n",
       "  </tbody>\n",
       "</table>\n",
       "<p>86 rows × 10 columns</p>\n",
       "</div>"
      ],
      "text/plain": [
       "    set_num  version            name_sets  year   name_themes part_num  \\\n",
       "0   21041-1        2  Great Wall of China  2018  Architecture    11211   \n",
       "1   21041-1        2  Great Wall of China  2018  Architecture    14417   \n",
       "2   21041-1        2  Great Wall of China  2018  Architecture    14704   \n",
       "3   21041-1        2  Great Wall of China  2018  Architecture    15573   \n",
       "4   21041-1        2  Great Wall of China  2018  Architecture    15573   \n",
       "..      ...      ...                  ...   ...           ...      ...   \n",
       "81  21041-1        2  Great Wall of China  2018  Architecture    92280   \n",
       "82  21041-1        2  Great Wall of China  2018  Architecture    96874   \n",
       "83  21041-1        2  Great Wall of China  2018  Architecture    98283   \n",
       "84  21041-1        2  Great Wall of China  2018  Architecture    98560   \n",
       "85  21041-1        2  Great Wall of China  2018  Architecture    99206   \n",
       "\n",
       "                                            name_part         name_color  \\\n",
       "0          Brick Special 1 x 2 with 2 Studs on 1 Side                Tan   \n",
       "1   Plate Special 1 x 2 with 5.9mm Centre Side Tow...   Dark Bluish Gray   \n",
       "2           Plate Special 1 x 2 5.9mm Centre Side Cup  Light Bluish Gray   \n",
       "3   Plate Special 1 x 2 with 1 Stud with Groove an...         Dark Green   \n",
       "4   Plate Special 1 x 2 with 1 Stud with Groove an...                Tan   \n",
       "..                                                ...                ...   \n",
       "81                     Plate Special 1 x 2 [Top Clip]             Yellow   \n",
       "82                      Brick and Axle Separator v2.0             Orange   \n",
       "83     Brick Special 1 x 2 with Masonry Brick Profile                Tan   \n",
       "84                  Slope 75° 2 x 2 x 3 [Solid Studs]         Dark Green   \n",
       "85  Plate Special 2 x 2 x 0.667 with Two Studs On ...                Tan   \n",
       "\n",
       "    quantity is_spare  \n",
       "0          1        f  \n",
       "1          1        f  \n",
       "2          1        f  \n",
       "3          2        f  \n",
       "4         14        f  \n",
       "..       ...      ...  \n",
       "81         2        f  \n",
       "82         1        f  \n",
       "83        21        f  \n",
       "84        13        f  \n",
       "85         4        f  \n",
       "\n",
       "[86 rows x 10 columns]"
      ]
     },
     "execution_count": 34,
     "metadata": {},
     "output_type": "execute_result"
    }
   ],
   "source": [
    "set_parts('21041-1', 2)"
   ]
  },
  {
   "cell_type": "markdown",
   "metadata": {},
   "source": [
    "## Optional Exercises\n",
    "These exercises are optional and are not graded by CodeGrade.  They can be used as extra optional practice.\n",
    "\n",
    "- What is the median year for the sets data?  Given the oldest and newest year in the data, what does this median value tell you about whether the number of sets have increased or decreased over the years?\n",
    "- What minifig has the most number of parts?\n",
    "- What minifig shows up in the most number of sets?\n",
    "- When was the first minifig included in a set?\n",
    "- What set has the most number of minifigs\n",
    "- What part is used the most for all sets? \n",
    "- What color is used the most for all parts?\n",
    "- Get a list of all unique color names, sort by color name, and output as a list. \n",
    "- How many total transparent colors are in the colors DataFrame?\n",
    "- Create a function called get_part_colors that takes as input a part number (as a string) and returns a DataFrame of all colors a part has appeared in.\n",
    "- What part / color combination is used the most for all sets?\n",
    "- What part / color combination is used the least for all sets?\n",
    "- Explore some of your favorite themes and which colors are used the most for those themes.\n",
    "- Plot a line graph of the average number of parts per set per year.\n"
   ]
  }
 ],
 "metadata": {
  "kernelspec": {
   "display_name": "Python 3 (ipykernel)",
   "language": "python",
   "name": "python3"
  },
  "language_info": {
   "codemirror_mode": {
    "name": "ipython",
    "version": 3
   },
   "file_extension": ".py",
   "mimetype": "text/x-python",
   "name": "python",
   "nbconvert_exporter": "python",
   "pygments_lexer": "ipython3",
   "version": "3.10.9"
  }
 },
 "nbformat": 4,
 "nbformat_minor": 4
}
